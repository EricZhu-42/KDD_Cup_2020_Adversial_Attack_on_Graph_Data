{
  "nbformat": 4,
  "nbformat_minor": 0,
  "metadata": {
    "colab": {
      "name": "KDD.ipynb",
      "provenance": [],
      "collapsed_sections": []
    },
    "kernelspec": {
      "name": "python3",
      "display_name": "Python 3"
    },
    "accelerator": "GPU"
  },
  "cells": [
    {
      "cell_type": "code",
      "metadata": {
        "id": "YiQIzXgJ64XY",
        "colab_type": "code",
        "colab": {
          "base_uri": "https://localhost:8080/",
          "height": 35
        },
        "outputId": "c155c246-66c4-4df6-b273-2c6d9e66df47"
      },
      "source": [
        "from google.colab import drive\n",
        "drive.mount('/content/drive')"
      ],
      "execution_count": 1,
      "outputs": [
        {
          "output_type": "stream",
          "text": [
            "Drive already mounted at /content/drive; to attempt to forcibly remount, call drive.mount(\"/content/drive\", force_remount=True).\n"
          ],
          "name": "stdout"
        }
      ]
    },
    {
      "cell_type": "code",
      "metadata": {
        "id": "cGP2luXn9djv",
        "colab_type": "code",
        "colab": {}
      },
      "source": [
        "import os\n",
        "!cd \"/content/drive/My Drive/Colab Notebooks/KDD_2020\"\n",
        "path = \"/content/drive/My Drive/Colab Notebooks/KDD_2020\"\n",
        "os.chdir(path)"
      ],
      "execution_count": 16,
      "outputs": []
    },
    {
      "cell_type": "code",
      "metadata": {
        "id": "ACVgqx7mxKW3",
        "colab_type": "code",
        "colab": {}
      },
      "source": [
        "!rm ./tmp/*"
      ],
      "execution_count": null,
      "outputs": []
    },
    {
      "cell_type": "code",
      "metadata": {
        "id": "J57SgTFAIv-l",
        "colab_type": "code",
        "colab": {
          "base_uri": "https://localhost:8080/",
          "height": 377
        },
        "outputId": "109f2e76-7b3f-432b-a96b-6cedf19f7c9e"
      },
      "source": [
        "!nvidia-smi"
      ],
      "execution_count": 4,
      "outputs": [
        {
          "output_type": "stream",
          "text": [
            "Fri Jun 19 14:57:21 2020       \n",
            "+-----------------------------------------------------------------------------+\n",
            "| NVIDIA-SMI 450.36.06    Driver Version: 418.67       CUDA Version: 10.1     |\n",
            "|-------------------------------+----------------------+----------------------+\n",
            "| GPU  Name        Persistence-M| Bus-Id        Disp.A | Volatile Uncorr. ECC |\n",
            "| Fan  Temp  Perf  Pwr:Usage/Cap|         Memory-Usage | GPU-Util  Compute M. |\n",
            "|                               |                      |               MIG M. |\n",
            "|===============================+======================+======================|\n",
            "|   0  Tesla K80           Off  | 00000000:00:04.0 Off |                    0 |\n",
            "| N/A   32C    P8    30W / 149W |      0MiB / 11441MiB |      0%      Default |\n",
            "|                               |                      |                 ERR! |\n",
            "+-------------------------------+----------------------+----------------------+\n",
            "                                                                               \n",
            "+-----------------------------------------------------------------------------+\n",
            "| Processes:                                                                  |\n",
            "|  GPU   GI   CI        PID   Type   Process name                  GPU Memory |\n",
            "|        ID   ID                                                   Usage      |\n",
            "|=============================================================================|\n",
            "|  No running processes found                                                 |\n",
            "+-----------------------------------------------------------------------------+\n"
          ],
          "name": "stdout"
        }
      ]
    },
    {
      "cell_type": "code",
      "metadata": {
        "id": "UIhMAtXUQSFu",
        "colab_type": "code",
        "colab": {
          "base_uri": "https://localhost:8080/",
          "height": 667
        },
        "outputId": "25216118-cf65-4330-f1ca-2a3dd6d6f33e"
      },
      "source": [
        "!python train.py"
      ],
      "execution_count": 20,
      "outputs": [
        {
          "output_type": "stream",
          "text": [
            "Data split info train = 353265, val = 135872, test = 54349\n",
            "Training with GPU Tesla K80\n",
            "-------- Network Structure --------\n",
            "GraphConvolution [100 -> 64]\n",
            "GraphConvolution [64 -> 32]\n",
            "GraphConvolution [32 -> 18]\n",
            "--------------------------------------\n",
            "Training:   0% 0/40 [00:00<?, ?it/s]tensor(0.0591, device='cuda:0', dtype=torch.float64)\n",
            "Training:   2% 1/40 [00:02<01:49,  2.82s/it]tensor(0.2257, device='cuda:0', dtype=torch.float64)\n",
            "Training:   5% 2/40 [00:05<01:48,  2.84s/it]tensor(0.2312, device='cuda:0', dtype=torch.float64)\n",
            "Training:   8% 3/40 [00:08<01:45,  2.86s/it]tensor(0.2335, device='cuda:0', dtype=torch.float64)\n",
            "Training:  10% 4/40 [00:11<01:43,  2.88s/it]tensor(0.2339, device='cuda:0', dtype=torch.float64)\n",
            "Training:  20% 8/40 [00:23<01:34,  2.95s/it]tensor(0.2342, device='cuda:0', dtype=torch.float64)\n",
            "Training:  22% 9/40 [00:26<01:32,  2.97s/it]tensor(0.2379, device='cuda:0', dtype=torch.float64)\n",
            "Training:  25% 10/40 [00:29<01:29,  2.97s/it]tensor(0.2453, device='cuda:0', dtype=torch.float64)\n",
            "Training:  28% 11/40 [00:32<01:26,  2.97s/it]tensor(0.2749, device='cuda:0', dtype=torch.float64)\n",
            "Training:  30% 12/40 [00:35<01:23,  2.98s/it]tensor(0.2895, device='cuda:0', dtype=torch.float64)\n",
            "Training:  35% 14/40 [00:41<01:17,  2.99s/it]tensor(0.2911, device='cuda:0', dtype=torch.float64)\n",
            "Training:  42% 17/40 [00:50<01:08,  2.99s/it]tensor(0.2928, device='cuda:0', dtype=torch.float64)\n",
            "Training:  48% 19/40 [00:56<01:02,  2.99s/it]tensor(0.2990, device='cuda:0', dtype=torch.float64)\n",
            "Training:  55% 22/40 [01:05<00:53,  2.97s/it]tensor(0.3010, device='cuda:0', dtype=torch.float64)\n",
            "Training:  57% 23/40 [01:08<00:50,  2.98s/it]tensor(0.3022, device='cuda:0', dtype=torch.float64)\n",
            "Training:  65% 26/40 [01:17<00:41,  2.99s/it]tensor(0.3047, device='cuda:0', dtype=torch.float64)\n",
            "Training:  68% 27/40 [01:20<00:39,  3.00s/it]tensor(0.3070, device='cuda:0', dtype=torch.float64)\n",
            "Training:  70% 28/40 [01:23<00:35,  3.00s/it]tensor(0.3077, device='cuda:0', dtype=torch.float64)\n",
            "Training:  72% 29/40 [01:26<00:33,  3.01s/it]tensor(0.3094, device='cuda:0', dtype=torch.float64)\n",
            "Training:  75% 30/40 [01:29<00:30,  3.02s/it]tensor(0.3139, device='cuda:0', dtype=torch.float64)\n",
            "Training:  78% 31/40 [01:32<00:27,  3.02s/it]tensor(0.3141, device='cuda:0', dtype=torch.float64)\n",
            "Training:  80% 32/40 [01:35<00:24,  3.02s/it]tensor(0.3154, device='cuda:0', dtype=torch.float64)\n",
            "Training:  82% 33/40 [01:38<00:21,  3.02s/it]tensor(0.3189, device='cuda:0', dtype=torch.float64)\n",
            "Training:  85% 34/40 [01:41<00:18,  3.03s/it]tensor(0.3210, device='cuda:0', dtype=torch.float64)\n",
            "Training:  90% 36/40 [01:47<00:12,  3.03s/it]tensor(0.3230, device='cuda:0', dtype=torch.float64)\n",
            "Training:  95% 38/40 [01:53<00:06,  3.00s/it]tensor(0.3268, device='cuda:0', dtype=torch.float64)\n",
            "Training:  98% 39/40 [01:56<00:02,  3.00s/it]tensor(0.3292, device='cuda:0', dtype=torch.float64)\n",
            "Training: 100% 40/40 [01:59<00:00,  2.98s/it]\n"
          ],
          "name": "stdout"
        }
      ]
    },
    {
      "cell_type": "code",
      "metadata": {
        "id": "TIuYgIO6JD5I",
        "colab_type": "code",
        "colab": {
          "base_uri": "https://localhost:8080/",
          "height": 323
        },
        "outputId": "0d348ea7-8d83-4d00-b188-794962f0e3ab"
      },
      "source": [
        "!python attack.py"
      ],
      "execution_count": 23,
      "outputs": [
        {
          "output_type": "stream",
          "text": [
            "Number of inserted nodes: 500\n",
            "Attacking with GPU Tesla K80\n",
            "-------- Network Structure --------\n",
            "GraphConvolution [100 -> 64]\n",
            "GraphConvolution [64 -> 32]\n",
            "GraphConvolution [32 -> 18]\n",
            "--------------------------------------\n",
            "Loss= 1.5645, accuracy= 1.0000}\n",
            "Loss= 2.0273, accuracy= 0.4945}\n",
            "Loss= 2.0785, accuracy= 0.3796}\n",
            "Loss= 2.1281, accuracy= 0.2881}\n",
            "Loss= 2.1549, accuracy= 0.2469}\n",
            "Loss= 2.1679, accuracy= 0.2329}\n",
            "Loss= 2.1775, accuracy= 0.2216}\n",
            "Loss= 2.1821, accuracy= 0.2154}\n",
            "Loss= 2.1845, accuracy= 0.2119}\n",
            "Loss= 2.1859, accuracy= 0.2099}\n"
          ],
          "name": "stdout"
        }
      ]
    }
  ]
}